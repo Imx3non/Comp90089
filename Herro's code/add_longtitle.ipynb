{
  "nbformat": 4,
  "nbformat_minor": 0,
  "metadata": {
    "colab": {
      "provenance": []
    },
    "kernelspec": {
      "name": "python3",
      "display_name": "Python 3"
    },
    "language_info": {
      "name": "python"
    }
  },
  "cells": [
    {
      "cell_type": "code",
      "source": [
        "# Import libraries\n",
        "import os\n",
        "\n",
        "import numpy as np\n",
        "import pandas as pd\n",
        "\n",
        "\n",
        "# Access data using Google BigQuery.\n",
        "from google.colab import auth\n",
        "from google.cloud import bigquery"
      ],
      "metadata": {
        "id": "nHdstaAYFLe6"
      },
      "execution_count": 12,
      "outputs": []
    },
    {
      "cell_type": "code",
      "source": [
        "# authenticate\n",
        "auth.authenticate_user()\n",
        "# Setting up the BigQuery client\n",
        "project_id = 'comp90089s2mingjun'\n",
        "client = bigquery.Client(project='comp90089s2mingjun')"
      ],
      "metadata": {
        "id": "1vk_HKANPze7"
      },
      "execution_count": 13,
      "outputs": []
    },
    {
      "cell_type": "code",
      "source": [
        "# Load the CSV file containing the separated ICD codes\n",
        "final_data = pd.read_csv('final_data.csv')\n"
      ],
      "metadata": {
        "id": "uMZ6tJxvFM58"
      },
      "execution_count": 14,
      "outputs": []
    },
    {
      "cell_type": "code",
      "source": [
        "# Query the physionet-data.mimiciv_hosp.d_icd_diagnoses table to extract icd_code and long_title\n",
        "query = \"\"\"\n",
        "    SELECT icd_code, long_title\n",
        "    FROM `physionet-data.mimiciv_hosp.d_icd_diagnoses`\n",
        "    WHERE icd_code IN UNNEST(@icd_codes)\n",
        "\"\"\"\n",
        "\n",
        "# Extract unique ICD codes from final_data\n",
        "icd_codes_list = final_data.columns[6:]  ##can change this number\n",
        "\n",
        "# Pass the ICD codes list as a parameter to the query\n",
        "job_config = bigquery.QueryJobConfig(\n",
        "    query_parameters=[\n",
        "        bigquery.ArrayQueryParameter(\"icd_codes\", \"STRING\", icd_codes_list.tolist())\n",
        "    ]\n",
        ")\n",
        "\n",
        "# Execute the query\n",
        "icd_diagnoses_df = client.query(query, job_config=job_config).to_dataframe()\n",
        "\n",
        "# View the query results\n",
        "print(icd_diagnoses_df.head())\n"
      ],
      "metadata": {
        "colab": {
          "base_uri": "https://localhost:8080/"
        },
        "id": "taCXpO42GINL",
        "outputId": "012968e7-1a20-40b4-dae3-02b73bfb13bb"
      },
      "execution_count": 17,
      "outputs": [
        {
          "output_type": "stream",
          "name": "stdout",
          "text": [
            "  icd_code                                         long_title\n",
            "0    00845  Intestinal infection due to Clostridium difficile\n",
            "1     0389                             Unspecified septicemia\n",
            "2    04104  Streptococcus infection in conditions classifi...\n",
            "3    04111  Methicillin susceptible Staphylococcus aureus ...\n",
            "4     0414  Escherichia coli [E. coli] infection in condit...\n"
          ]
        }
      ]
    },
    {
      "cell_type": "code",
      "source": [
        "# Create a dictionary that maps icd_code to long_title\n",
        "icd_to_title = icd_diagnoses_df.set_index('icd_code')['long_title'].to_dict()\n",
        "\n",
        "# Define a function to convert icd_code to the format long_title[icd_code]\n",
        "def format_icd_code(icd_column_name):\n",
        "    icd_code = icd_column_name\n",
        "    if icd_code in icd_to_title:\n",
        "        return f\"{icd_to_title[icd_code]}[{icd_code}]\"\n",
        "    else:\n",
        "        return icd_code  # If no long_title is found, keep the original ICD code\n",
        "\n",
        "# Update the column names in final_data\n",
        "updated_columns = ['subject_id', 'hadm_id', 'gender', 'age', 'race', 'classification'] + [format_icd_code(icd) for icd in icd_codes_list]\n",
        "final_data.columns = updated_columns\n",
        "\n",
        "# View the final result\n",
        "print(final_data.head())\n",
        "\n",
        "# Save the final result to a CSV file\n",
        "final_data.to_csv('final_data_with_long_titles.csv', index=False)\n"
      ],
      "metadata": {
        "colab": {
          "base_uri": "https://localhost:8080/"
        },
        "id": "8X7wopbpGY_9",
        "outputId": "b99893d2-498c-4e01-dcf4-f1c759240b10"
      },
      "execution_count": 19,
      "outputs": [
        {
          "output_type": "stream",
          "name": "stdout",
          "text": [
            "   subject_id   hadm_id gender  age                    race  \\\n",
            "0    10000980  26913865      F   76  BLACK/AFRICAN AMERICAN   \n",
            "1    10001217  24597018      F   55                   WHITE   \n",
            "2    10001401  21544441      F   89                   WHITE   \n",
            "3    10001884  26202981      F   76  BLACK/AFRICAN AMERICAN   \n",
            "4    10002013  23581541      F   57                   OTHER   \n",
            "\n",
            "      classification  \\\n",
            "0  Only_hypertension   \n",
            "1  Only_hypertension   \n",
            "2  Only_hypertension   \n",
            "3  Only_hypertension   \n",
            "4  Only_hypertension   \n",
            "\n",
            "   Intestinal infection due to Clostridium difficile[00845]  \\\n",
            "0                                                  0          \n",
            "1                                                  0          \n",
            "2                                                  0          \n",
            "3                                                  0          \n",
            "4                                                  0          \n",
            "\n",
            "   Unspecified septicemia[0389]  \\\n",
            "0                             0   \n",
            "1                             0   \n",
            "2                             0   \n",
            "3                             0   \n",
            "4                             0   \n",
            "\n",
            "   Streptococcus infection in conditions classified elsewhere and of unspecified site, streptococcus, group D [Enterococcus][04104]  \\\n",
            "0                                                  0                                                                                  \n",
            "1                                                  0                                                                                  \n",
            "2                                                  0                                                                                  \n",
            "3                                                  0                                                                                  \n",
            "4                                                  0                                                                                  \n",
            "\n",
            "   Methicillin susceptible Staphylococcus aureus in conditions classified elsewhere and of unspecified site[04111]  \\\n",
            "0                                                  0                                                                 \n",
            "1                                                  0                                                                 \n",
            "2                                                  0                                                                 \n",
            "3                                                  0                                                                 \n",
            "4                                                  0                                                                 \n",
            "\n",
            "   ...  \\\n",
            "0  ...   \n",
            "1  ...   \n",
            "2  ...   \n",
            "3  ...   \n",
            "4  ...   \n",
            "\n",
            "   Encounter for examination for normal comparison and control in clinical research program[Z006]  \\\n",
            "0                                                  0                                                \n",
            "1                                                  0                                                \n",
            "2                                                  0                                                \n",
            "3                                                  0                                                \n",
            "4                                                  0                                                \n",
            "\n",
            "   Encounter for immunization[Z23]  Encounter for palliative care[Z515]  \\\n",
            "0                                0                                    0   \n",
            "1                                0                                    0   \n",
            "2                                0                                    0   \n",
            "3                                0                                    0   \n",
            "4                                0                                    0   \n",
            "\n",
            "   Do not resuscitate[Z66]  Physical restraint status[Z781]  \\\n",
            "0                        0                                0   \n",
            "1                        0                                0   \n",
            "2                        0                                0   \n",
            "3                        0                                0   \n",
            "4                        0                                0   \n",
            "\n",
            "   Long term (current) use of anticoagulants[Z7901]  \\\n",
            "0                                                 0   \n",
            "1                                                 0   \n",
            "2                                                 0   \n",
            "3                                                 0   \n",
            "4                                                 0   \n",
            "\n",
            "   Long term (current) use of antithrombotics/antiplatelets[Z7902]  \\\n",
            "0                                                  0                 \n",
            "1                                                  0                 \n",
            "2                                                  0                 \n",
            "3                                                  0                 \n",
            "4                                                  0                 \n",
            "\n",
            "   Long term (current) use of insulin[Z794]  \\\n",
            "0                                         0   \n",
            "1                                         0   \n",
            "2                                         0   \n",
            "3                                         0   \n",
            "4                                         0   \n",
            "\n",
            "   Personal history of nicotine dependence[Z87891]  \\\n",
            "0                                                0   \n",
            "1                                                0   \n",
            "2                                                0   \n",
            "3                                                0   \n",
            "4                                                0   \n",
            "\n",
            "   Presence of coronary angioplasty implant and graft[Z955]  \n",
            "0                                                  0         \n",
            "1                                                  0         \n",
            "2                                                  0         \n",
            "3                                                  0         \n",
            "4                                                  0         \n",
            "\n",
            "[5 rows x 304 columns]\n"
          ]
        }
      ]
    },
    {
      "cell_type": "markdown",
      "source": [],
      "metadata": {
        "id": "-_MchK23PzUI"
      }
    }
  ]
}